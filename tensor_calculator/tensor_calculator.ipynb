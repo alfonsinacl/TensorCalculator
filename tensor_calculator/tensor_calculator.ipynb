{
 "cells": [
  {
   "cell_type": "code",
   "execution_count": null,
   "id": "f8c1595b",
   "metadata": {
    "pycharm": {
     "name": "#%%\n"
    }
   },
   "outputs": [],
   "source": [
    "import torch"
   ]
  },
  {
   "cell_type": "code",
   "execution_count": 14,
   "id": "268205a7",
   "metadata": {
    "pycharm": {
     "name": "#%%\n"
    }
   },
   "outputs": [],
   "source": [
    "__all__ = ['TensorCalculator']\n",
    "# __all__ is a special variable that defines what's accessible when someone imports the module\n",
    "\n",
    "\n",
    "class TensorCalculator:\n",
    "    def __init__(self, shape: tuple):\n",
    "        self.shape = shape\n",
    "\n",
    "    def zeros_tensor(self):\n",
    "        return torch.zeros(self.shape)\n",
    "\n",
    "    def ones_tensor(self):\n",
    "        return torch.ones(self.shape)\n",
    "\n",
    "    def random_tensor(self):\n",
    "        return torch.rand(self.shape)\n",
    "\n",
    "    @staticmethod\n",
    "    def sum_tensor(tensor1, tensor2):\n",
    "        if tensor1.size() != tensor2.size() and tensor2.size() != tensor1.size():\n",
    "            raise ValueError(\"Tensors must have the same shape to perform the operation\")\n",
    "        return tensor1 + tensor2\n",
    "\n",
    "    @staticmethod\n",
    "    def mult_tensor(tensor1, tensor2):\n",
    "        if tensor1.size() != tensor2.size() and tensor2.size() != tensor1.size():\n",
    "            raise ValueError(\"Tensors must have the same shape to perform the operation\")\n",
    "        return tensor1 * tensor2\n",
    "\n",
    "    @staticmethod\n",
    "    def square_tensor(tensor: torch.Tensor):\n",
    "        return tensor ** 2\n",
    "\n",
    "    @staticmethod\n",
    "    def ground_tensor(tensor: torch.Tensor, divisor: int):\n",
    "        final_tensor = tensor // divisor\n",
    "        return final_tensor\n",
    "\n",
    "    @staticmethod\n",
    "    def normalized_tensor(tensor: torch.Tensor):\n",
    "        mean = torch.mean(tensor)\n",
    "        std = torch.std(tensor)\n",
    "        normalized = (tensor - mean) / std\n",
    "        return normalized\n",
    "\n",
    "    @staticmethod\n",
    "    def reshape_tensor(tensor: torch.Tensor, new_shape: tuple):\n",
    "        if torch.numel(tensor) != torch.numel(torch.empty(new_shape)):\n",
    "            raise ValueError(\"New shape must have the same number of elements as the original tensor.\")\n",
    "        reshaped_tensor = tensor.view(new_shape)\n",
    "        return reshaped_tensor\n"
   ]
  },
  {
   "cell_type": "code",
   "execution_count": 15,
   "id": "ece030d9",
   "metadata": {
    "pycharm": {
     "name": "#%%\n"
    }
   },
   "outputs": [
    {
     "data": {
      "text/plain": [
       "tensor([[0.8231, 1.6228, 1.0130, 1.5913],\n",
       "        [1.2393, 0.5042, 0.6878, 0.1991],\n",
       "        [1.1487, 0.9481, 1.0413, 0.3904]])"
      ]
     },
     "execution_count": 15,
     "metadata": {},
     "output_type": "execute_result"
    }
   ],
   "source": [
    "my_tensor = TensorCalculator((3, 4))\n",
    "tensor_ex = my_tensor.random_tensor()\n",
    "my_tensor.ground_tensor(tensor_ex, 0.1)\n",
    "tensor_ex\n",
    "tensor_ex_reshaped = my_tensor.reshape_tensor(tensor_ex, (4, 3))\n",
    "tensor_ex_2 = my_tensor.random_tensor()\n",
    "tensor_sum = my_tensor.sum_tensor(tensor_ex, tensor_ex_2)\n",
    "tensor_sum"
   ]
  },
  {
   "cell_type": "code",
   "execution_count": null,
   "id": "c75a48b6",
   "metadata": {
    "pycharm": {
     "name": "#%%\n"
    }
   },
   "outputs": [],
   "source": []
  }
 ],
 "metadata": {
  "kernelspec": {
   "display_name": "Python 3 (ipykernel)",
   "language": "python",
   "name": "python3"
  },
  "language_info": {
   "codemirror_mode": {
    "name": "ipython",
    "version": 3
   },
   "file_extension": ".py",
   "mimetype": "text/x-python",
   "name": "python",
   "nbconvert_exporter": "python",
   "pygments_lexer": "ipython3",
   "version": "3.11.5"
  }
 },
 "nbformat": 4,
 "nbformat_minor": 5
}